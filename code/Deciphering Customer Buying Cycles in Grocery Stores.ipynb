{
 "cells": [
  {
   "cell_type": "markdown",
   "id": "c2676322-6b10-4e69-9888-2bae628e88a0",
   "metadata": {},
   "source": [
    "# Note that this project is coded for R\n",
    "\n",
    "![Example grocery store](grocery_store.jpg)"
   ]
  },
  {
   "cell_type": "markdown",
   "id": "fb8a3c01-a2cf-40dd-8df0-4bc29cc5e2ef",
   "metadata": {},
   "source": [
    "## 📖 The Background\n",
    "In the bustling world of retail, especially in grocery stores, understanding consumer preferences and shopping habits is pivotal for business optimization. Imagine a local grocery chain seeking to enhance customer satisfaction and drive sales. By analyzing transactional data from two of its 24-hour stores, each with unique data storage practices due to the store owners' diverse backgrounds, the chain aims to uncover hidden patterns in consumer behavior. The goal here is multifaceted: optimizing store layouts, tailoring marketing strategies, and efficiently managing inventory to align with customer preferences. For instance, if analysis reveals that customers frequently purchase certain products together or show a preference for shopping at specific hours, the store can adjust its marketing efforts and stock levels accordingly. Additionally, understanding seasonal trends and weekly fluctuations in sales helps in planning promotions and staffing. Acting as the retail data scientist for this chain, you'll leverage detailed retail data to drive strategic decisions, ultimately enhancing customer experience and boosting the store's performance. \n",
    "\n",
    "## 💾 The Data\n",
    "`grocery_data1.csv` and `grocery_data2.csv` contain detailed records of grocery transactions from these two stores with the same column names:\n",
    "\n",
    "| Variable         | Description                                           |\n",
    "|------------------|-------------------------------------------------------|\n",
    "| `CustomerID`     | Unique identifier for each customer                   |\n",
    "| `DateRaw`        | Raw date of the transaction                           |\n",
    "| `Time`           | Time of the transaction                               |\n",
    "| `TransactionID`  | Unique identifier for each transaction                |\n",
    "| `ProductName`    | Name of the product purchased                         |\n",
    "| `PriceUSD`       | Price of the product in US dollars                    |\n",
    "| `Quantity`       | Number of the product purchased                     |\n",
    "| `PaymentMethod`  | Payment type used for the transaction               |\n",
    "| `Category`       | Category of the product                               |\n"
   ]
  },
  {
   "cell_type": "markdown",
   "id": "4629d24d",
   "metadata": {},
   "source": [
    "# Objectives\n",
    "1) In order to understand consumer spending patterns, what week of the year during the time period given (June 1 to August 31) had the smallest absolute deviation in sales value compared to the mean weekly sales over that same time period?\n",
    "2) In order to tailor marketing strategies, what hour of the day (as a number on the 24 hour scale) had the most hourly total sales?\n",
    "3) In order to evaluate individual buying preferences, how many days went by between the three purchases of cornflakes by `CustomerID` 107?"
   ]
  },
  {
   "cell_type": "code",
   "execution_count": 172,
   "id": "8c44c8f8-e810-479c-9155-e122f185c148",
   "metadata": {
    "executionCancelledAt": null,
    "executionTime": 50,
    "lastExecutedAt": 1761943448281,
    "lastExecutedByKernel": "add869da-9d92-47e6-b087-565219ba6d0e",
    "lastScheduledRunId": null,
    "lastSuccessfullyExecutedCode": "# Import packages\nlibrary(dplyr)\nlibrary(lubridate)\nlibrary(readr)\n",
    "outputsMetadata": {
     "0": {
      "height": 378,
      "type": "stream"
     }
    }
   },
   "outputs": [],
   "source": [
    "# Import packages\n",
    "library(dplyr)\n",
    "library(lubridate)\n",
    "library(readr)\n"
   ]
  },
  {
   "cell_type": "code",
   "execution_count": 173,
   "id": "b15d3ffe-8f10-4bf7-96f2-fbd464d8a696",
   "metadata": {
    "executionCancelledAt": null,
    "executionTime": 158,
    "lastExecutedAt": 1761943448440,
    "lastExecutedByKernel": "add869da-9d92-47e6-b087-565219ba6d0e",
    "lastScheduledRunId": null,
    "lastSuccessfullyExecutedCode": "#import the data\nstore1 = read_csv('grocery_data1.csv')\n\t#2,619 rows\nstore2 = read_csv('grocery_data2.csv')\n\t#2,581 rows\n\n#investigate the data\nhead(store1)\n#head(store2)",
    "outputsMetadata": {
     "0": {
      "height": 378,
      "type": "stream"
     },
     "1": {
      "height": 550,
      "tableState": {
       "customFilter": {
        "const": {
         "type": "boolean",
         "valid": true,
         "value": true
        },
        "id": "6a28342f-ca85-4dc6-8763-ea41314156b0",
        "nodeType": "const"
       }
      },
      "type": "dataFrame"
     }
    }
   },
   "outputs": [
    {
     "name": "stderr",
     "output_type": "stream",
     "text": [
      "\u001b[1mRows: \u001b[22m\u001b[34m2619\u001b[39m \u001b[1mColumns: \u001b[22m\u001b[34m9\u001b[39m\n",
      "\u001b[36m──\u001b[39m \u001b[1mColumn specification\u001b[22m \u001b[36m────────────────────────────────────────────────────────\u001b[39m\n",
      "\u001b[1mDelimiter:\u001b[22m \",\"\n",
      "\u001b[31mchr\u001b[39m  (4): DateRaw, ProductName, PaymentMethod, Category\n",
      "\u001b[32mdbl\u001b[39m  (4): CustomerID, TransactionID, PriceUSD, Quantity\n",
      "\u001b[34mtime\u001b[39m (1): Time\n",
      "\n",
      "\u001b[36mℹ\u001b[39m Use `spec()` to retrieve the full column specification for this data.\n",
      "\u001b[36mℹ\u001b[39m Specify the column types or set `show_col_types = FALSE` to quiet this message.\n",
      "\u001b[1mRows: \u001b[22m\u001b[34m2581\u001b[39m \u001b[1mColumns: \u001b[22m\u001b[34m9\u001b[39m\n",
      "\u001b[36m──\u001b[39m \u001b[1mColumn specification\u001b[22m \u001b[36m────────────────────────────────────────────────────────\u001b[39m\n",
      "\u001b[1mDelimiter:\u001b[22m \",\"\n",
      "\u001b[31mchr\u001b[39m  (4): DateRaw, ProductName, PaymentMethod, Category\n",
      "\u001b[32mdbl\u001b[39m  (4): CustomerID, TransactionID, PriceUSD, Quantity\n",
      "\u001b[34mtime\u001b[39m (1): Time\n",
      "\n",
      "\u001b[36mℹ\u001b[39m Use `spec()` to retrieve the full column specification for this data.\n",
      "\u001b[36mℹ\u001b[39m Specify the column types or set `show_col_types = FALSE` to quiet this message.\n"
     ]
    },
    {
     "data": {
      "application/com.datacamp.data-table.v2+json": {
       "table": {
        "data": {
         "Category": [
          "Produce",
          "Produce",
          "Grains",
          "Grains",
          "Vegetarian",
          "Produce"
         ],
         "CustomerID": [
          41,
          170,
          86,
          178,
          87,
          12
         ],
         "DateRaw": [
          "June 28, 2023",
          "August 18, 2023",
          "August 18, 2023",
          "August 06, 2023",
          "July 30, 2023",
          "June 17, 2023"
         ],
         "PaymentMethod": [
          "Cash",
          "Mobile Payment",
          "Mobile Payment",
          "Debit Card",
          "Debit Card",
          "Debit Card"
         ],
         "PriceUSD": [
          5.64,
          17.92,
          19.14,
          0.76,
          11.3,
          11.04
         ],
         "ProductName": [
          "Apples",
          "Apples",
          "Pasta",
          "Rice",
          "Chickpeas",
          "Onions"
         ],
         "Quantity": [
          5,
          1,
          2,
          4,
          1,
          2
         ],
         "Time": [
          "20:00:00",
          "06:00:00",
          "09:00:00",
          "02:00:00",
          "09:00:00",
          "15:00:00"
         ],
         "TransactionID": [
          2,
          3,
          4,
          5,
          6,
          8
         ],
         "index": [
          "1",
          "2",
          "3",
          "4",
          "5",
          "6"
         ]
        },
        "schema": {
         "fields": [
          {
           "name": "index",
           "type": "string"
          },
          {
           "name": "CustomerID",
           "type": "number"
          },
          {
           "name": "DateRaw",
           "type": "string"
          },
          {
           "name": "Time",
           "type": "hms"
          },
          {
           "name": "TransactionID",
           "type": "number"
          },
          {
           "name": "ProductName",
           "type": "string"
          },
          {
           "name": "PriceUSD",
           "type": "number"
          },
          {
           "name": "Quantity",
           "type": "number"
          },
          {
           "name": "PaymentMethod",
           "type": "string"
          },
          {
           "name": "Category",
           "type": "string"
          }
         ],
         "pandas_version": "0.20.0",
         "primaryKey": [
          "index"
         ]
        }
       },
       "total_rows": 6,
       "truncation_type": null
      },
      "text/html": [
       "<table class=\"dataframe\">\n",
       "<caption>A tibble: 6 × 9</caption>\n",
       "<thead>\n",
       "\t<tr><th scope=col>CustomerID</th><th scope=col>DateRaw</th><th scope=col>Time</th><th scope=col>TransactionID</th><th scope=col>ProductName</th><th scope=col>PriceUSD</th><th scope=col>Quantity</th><th scope=col>PaymentMethod</th><th scope=col>Category</th></tr>\n",
       "\t<tr><th scope=col>&lt;dbl&gt;</th><th scope=col>&lt;chr&gt;</th><th scope=col>&lt;time&gt;</th><th scope=col>&lt;dbl&gt;</th><th scope=col>&lt;chr&gt;</th><th scope=col>&lt;dbl&gt;</th><th scope=col>&lt;dbl&gt;</th><th scope=col>&lt;chr&gt;</th><th scope=col>&lt;chr&gt;</th></tr>\n",
       "</thead>\n",
       "<tbody>\n",
       "\t<tr><td> 41</td><td>June 28, 2023  </td><td>20:00:00</td><td>2</td><td>Apples   </td><td> 5.64</td><td>5</td><td>Cash          </td><td>Produce   </td></tr>\n",
       "\t<tr><td>170</td><td>August 18, 2023</td><td>06:00:00</td><td>3</td><td>Apples   </td><td>17.92</td><td>1</td><td>Mobile Payment</td><td>Produce   </td></tr>\n",
       "\t<tr><td> 86</td><td>August 18, 2023</td><td>09:00:00</td><td>4</td><td>Pasta    </td><td>19.14</td><td>2</td><td>Mobile Payment</td><td>Grains    </td></tr>\n",
       "\t<tr><td>178</td><td>August 06, 2023</td><td>02:00:00</td><td>5</td><td>Rice     </td><td> 0.76</td><td>4</td><td>Debit Card    </td><td>Grains    </td></tr>\n",
       "\t<tr><td> 87</td><td>July 30, 2023  </td><td>09:00:00</td><td>6</td><td>Chickpeas</td><td>11.30</td><td>1</td><td>Debit Card    </td><td>Vegetarian</td></tr>\n",
       "\t<tr><td> 12</td><td>June 17, 2023  </td><td>15:00:00</td><td>8</td><td>Onions   </td><td>11.04</td><td>2</td><td>Debit Card    </td><td>Produce   </td></tr>\n",
       "</tbody>\n",
       "</table>\n"
      ],
      "text/latex": [
       "A tibble: 6 × 9\n",
       "\\begin{tabular}{lllllllll}\n",
       " CustomerID & DateRaw & Time & TransactionID & ProductName & PriceUSD & Quantity & PaymentMethod & Category\\\\\n",
       " <dbl> & <chr> & <time> & <dbl> & <chr> & <dbl> & <dbl> & <chr> & <chr>\\\\\n",
       "\\hline\n",
       "\t  41 & June 28, 2023   & 20:00:00 & 2 & Apples    &  5.64 & 5 & Cash           & Produce   \\\\\n",
       "\t 170 & August 18, 2023 & 06:00:00 & 3 & Apples    & 17.92 & 1 & Mobile Payment & Produce   \\\\\n",
       "\t  86 & August 18, 2023 & 09:00:00 & 4 & Pasta     & 19.14 & 2 & Mobile Payment & Grains    \\\\\n",
       "\t 178 & August 06, 2023 & 02:00:00 & 5 & Rice      &  0.76 & 4 & Debit Card     & Grains    \\\\\n",
       "\t  87 & July 30, 2023   & 09:00:00 & 6 & Chickpeas & 11.30 & 1 & Debit Card     & Vegetarian\\\\\n",
       "\t  12 & June 17, 2023   & 15:00:00 & 8 & Onions    & 11.04 & 2 & Debit Card     & Produce   \\\\\n",
       "\\end{tabular}\n"
      ],
      "text/markdown": [
       "\n",
       "A tibble: 6 × 9\n",
       "\n",
       "| CustomerID &lt;dbl&gt; | DateRaw &lt;chr&gt; | Time &lt;time&gt; | TransactionID &lt;dbl&gt; | ProductName &lt;chr&gt; | PriceUSD &lt;dbl&gt; | Quantity &lt;dbl&gt; | PaymentMethod &lt;chr&gt; | Category &lt;chr&gt; |\n",
       "|---|---|---|---|---|---|---|---|---|\n",
       "|  41 | June 28, 2023   | 20:00:00 | 2 | Apples    |  5.64 | 5 | Cash           | Produce    |\n",
       "| 170 | August 18, 2023 | 06:00:00 | 3 | Apples    | 17.92 | 1 | Mobile Payment | Produce    |\n",
       "|  86 | August 18, 2023 | 09:00:00 | 4 | Pasta     | 19.14 | 2 | Mobile Payment | Grains     |\n",
       "| 178 | August 06, 2023 | 02:00:00 | 5 | Rice      |  0.76 | 4 | Debit Card     | Grains     |\n",
       "|  87 | July 30, 2023   | 09:00:00 | 6 | Chickpeas | 11.30 | 1 | Debit Card     | Vegetarian |\n",
       "|  12 | June 17, 2023   | 15:00:00 | 8 | Onions    | 11.04 | 2 | Debit Card     | Produce    |\n",
       "\n"
      ],
      "text/plain": [
       "  CustomerID DateRaw         Time     TransactionID ProductName PriceUSD\n",
       "1  41        June 28, 2023   20:00:00 2             Apples       5.64   \n",
       "2 170        August 18, 2023 06:00:00 3             Apples      17.92   \n",
       "3  86        August 18, 2023 09:00:00 4             Pasta       19.14   \n",
       "4 178        August 06, 2023 02:00:00 5             Rice         0.76   \n",
       "5  87        July 30, 2023   09:00:00 6             Chickpeas   11.30   \n",
       "6  12        June 17, 2023   15:00:00 8             Onions      11.04   \n",
       "  Quantity PaymentMethod  Category  \n",
       "1 5        Cash           Produce   \n",
       "2 1        Mobile Payment Produce   \n",
       "3 2        Mobile Payment Grains    \n",
       "4 4        Debit Card     Grains    \n",
       "5 1        Debit Card     Vegetarian\n",
       "6 2        Debit Card     Produce   "
      ]
     },
     "metadata": {},
     "output_type": "display_data"
    }
   ],
   "source": [
    "#import the data\n",
    "store1 = read_csv('grocery_data1.csv')\n",
    "    #2,619 rows\n",
    "store2 = read_csv('grocery_data2.csv')\n",
    "    #2,581 rows\n",
    "\n",
    "#investigate the data\n",
    "head(store1)\n",
    "#head(store2)"
   ]
  },
  {
   "cell_type": "markdown",
   "id": "10eb537e-24ff-47ed-8347-be22994baee0",
   "metadata": {},
   "source": [
    "The 'DateRaw' variable has character types. Analysis would benefit if this variable were converted to a date type. In the first dataset, the values are formatted as \"_Month_ DD, YYYY\". For the second, there is no comma; \"DD _Month_ YYYY\".  \n",
    "Both datasets have observations between 2023-06-01 through 2023-08-31.\n",
    "\n",
    "Moreover, it would be useful to have a 'Sales' quantity which can be built by multiplying the 'PriceUSD' & 'Quantity' variables.\n",
    "\n",
    "Another variable was created that merged the two datasets together."
   ]
  },
  {
   "cell_type": "code",
   "execution_count": 174,
   "id": "2fdb6de2-45d1-4d29-a6e7-46b3e914f994",
   "metadata": {
    "executionCancelledAt": null,
    "executionTime": 45,
    "lastExecutedAt": 1761943448485,
    "lastExecutedByKernel": "add869da-9d92-47e6-b087-565219ba6d0e",
    "lastScheduledRunId": null,
    "lastSuccessfullyExecutedCode": "#convert 'DateRaw' to date types\nstore1$Date <- as.Date(store1$DateRaw, format=\"%B %d, %Y\")\nstore2$Date <- as.Date(store2$DateRaw, format=\"%d %B %Y\")\n\n#calculate Sales\nstore1$Sales <- store1$PriceUSD * store1$Quantity\nstore2$Sales <- store2$PriceUSD * store2$Quantity\n\n#merge the datasets\nmerged_df <- bind_rows(store1, store2)\n\t#5,200 rows\nglimpse(merged_df)",
    "outputsMetadata": {
     "0": {
      "height": 500,
      "tableState": {},
      "type": "dataFrame"
     }
    }
   },
   "outputs": [
    {
     "name": "stdout",
     "output_type": "stream",
     "text": [
      "Rows: 5,200\n",
      "Columns: 11\n",
      "$ CustomerID    \u001b[3m\u001b[90m<dbl>\u001b[39m\u001b[23m 41, 170, 86, 178, 87, 12, 104, 140, 104, 78, 47, 143, 88…\n",
      "$ DateRaw       \u001b[3m\u001b[90m<chr>\u001b[39m\u001b[23m \"June 28, 2023\", \"August 18, 2023\", \"August 18, 2023\", \"…\n",
      "$ Time          \u001b[3m\u001b[90m<time>\u001b[39m\u001b[23m 20:00:00, 06:00:00, 09:00:00, 02:00:00, 09:00:00, 15:00…\n",
      "$ TransactionID \u001b[3m\u001b[90m<dbl>\u001b[39m\u001b[23m 2, 3, 4, 5, 6, 8, 9, 11, 12, 13, 15, 16, 17, 19, 21, 25,…\n",
      "$ ProductName   \u001b[3m\u001b[90m<chr>\u001b[39m\u001b[23m \"Apples\", \"Apples\", \"Pasta\", \"Rice\", \"Chickpeas\", \"Onion…\n",
      "$ PriceUSD      \u001b[3m\u001b[90m<dbl>\u001b[39m\u001b[23m 5.64, 17.92, 19.14, 0.76, 11.30, 11.04, 12.04, 4.29, 11.…\n",
      "$ Quantity      \u001b[3m\u001b[90m<dbl>\u001b[39m\u001b[23m 5, 1, 2, 4, 1, 2, 2, 2, 1, 1, 4, 5, 2, 5, 4, 4, 3, 5, 2,…\n",
      "$ PaymentMethod \u001b[3m\u001b[90m<chr>\u001b[39m\u001b[23m \"Cash\", \"Mobile Payment\", \"Mobile Payment\", \"Debit Card\"…\n",
      "$ Category      \u001b[3m\u001b[90m<chr>\u001b[39m\u001b[23m \"Produce\", \"Produce\", \"Grains\", \"Grains\", \"Vegetarian\", …\n",
      "$ Date          \u001b[3m\u001b[90m<date>\u001b[39m\u001b[23m 2023-06-28, 2023-08-18, 2023-08-18, 2023-08-06, 2023-07…\n",
      "$ Sales         \u001b[3m\u001b[90m<dbl>\u001b[39m\u001b[23m 28.20, 17.92, 38.28, 3.04, 11.30, 22.08, 24.08, 8.58, 11…\n"
     ]
    }
   ],
   "source": [
    "#convert 'DateRaw' to date types\n",
    "store1$Date <- as.Date(store1$DateRaw, format=\"%B %d, %Y\")\n",
    "store2$Date <- as.Date(store2$DateRaw, format=\"%d %B %Y\")\n",
    "\n",
    "#calculate Sales\n",
    "store1$Sales <- store1$PriceUSD * store1$Quantity\n",
    "store2$Sales <- store2$PriceUSD * store2$Quantity\n",
    "\n",
    "#merge the datasets\n",
    "merged_df <- bind_rows(store1, store2)\n",
    "    #5,200 rows\n",
    "glimpse(merged_df)"
   ]
  },
  {
   "cell_type": "markdown",
   "id": "a692ccb9-b023-4c5a-849d-2a76485914b9",
   "metadata": {},
   "source": [
    "# Q1\n",
    "In order to understand consumer spending patterns, what week of the year during the time period given (June 1 to August 31) had the smallest absolute deviation in sales value compared to the mean weekly sales over that same time period?  \n",
    "Enter your answer into the `smallest_sales_deviation` object as an integer.\n",
    "\n",
    "- This question basically asks for the (absolute) difference between the total sales each week & the overall weekly average in total sales."
   ]
  },
  {
   "cell_type": "code",
   "execution_count": 175,
   "id": "16796a3b-719b-4577-bdc7-17857b91596d",
   "metadata": {
    "executionCancelledAt": null,
    "executionTime": 53,
    "lastExecutedAt": 1761943448538,
    "lastExecutedByKernel": "add869da-9d92-47e6-b087-565219ba6d0e",
    "lastScheduledRunId": null,
    "lastSuccessfullyExecutedCode": "#Create a new variable indicating the week number of a date\nmerged_df$Week <- week(merged_df$Date)\n\t#Weeks span 22-35\n\n#Need to calculate the avg weekly sales overall. First, calculate total sales per week.\navg_wk_sales <- merged_df %>%\n\tgroup_by(Week) %>%\n\tsummarize(tot_wk_sales = sum(Sales)) %>%\n\tungroup()\n#Retrieve the avg weekly sales overall; ~$11,443\nov_avg_wk_sales <- mean(avg_wk_sales$tot_wk_sales)\n\n#Find the absolute difference between the overall avg weekly sales quantity & avg sales per week\navg_wk_sales <- avg_wk_sales %>%\n\tgroup_by(Week) %>%\n\tmutate(avg_wk_diff = abs(ov_avg_wk_sales - tot_wk_sales)) %>%\n\tungroup()\n\n#Obtain the week with the smallest absolute deviation; 24\nsmallest_sales_deviation <- avg_wk_sales %>%\n\tslice_min(avg_wk_diff, n=1) %>%\n\tpull(Week)\nsmallest_sales_deviation",
    "outputsMetadata": {
     "0": {
      "height": 500,
      "tableState": {},
      "type": "dataFrame"
     },
     "1": {
      "height": 500,
      "tableState": {},
      "type": "dataFrame"
     },
     "2": {
      "height": 500,
      "tableState": {},
      "type": "dataFrame"
     }
    }
   },
   "outputs": [
    {
     "data": {
      "text/html": [
       "24"
      ],
      "text/latex": [
       "24"
      ],
      "text/markdown": [
       "24"
      ],
      "text/plain": [
       "[1] 24"
      ]
     },
     "metadata": {},
     "output_type": "display_data"
    }
   ],
   "source": [
    "#Create a new variable indicating the week number of a date\n",
    "merged_df$Week <- week(merged_df$Date)\n",
    "    #Weeks span 22-35\n",
    "\n",
    "#Need to calculate the avg weekly sales overall. First, calculate total sales per week.\n",
    "avg_wk_sales <- merged_df %>%\n",
    "    group_by(Week) %>%\n",
    "    summarize(tot_wk_sales = sum(Sales)) %>%\n",
    "    ungroup()\n",
    "#Retrieve the avg weekly sales overall; ~$11,443\n",
    "ov_avg_wk_sales <- mean(avg_wk_sales$tot_wk_sales)\n",
    "\n",
    "#Find the absolute difference between the overall avg weekly sales quantity & avg sales per week\n",
    "avg_wk_sales <- avg_wk_sales %>%\n",
    "    group_by(Week) %>%\n",
    "    mutate(avg_wk_diff = abs(ov_avg_wk_sales - tot_wk_sales)) %>%\n",
    "    ungroup()\n",
    "\n",
    "#Obtain the week with the smallest absolute deviation; 24\n",
    "smallest_sales_deviation <- avg_wk_sales %>%\n",
    "    slice_min(avg_wk_diff, n=1) %>%\n",
    "    pull(Week)\n",
    "smallest_sales_deviation"
   ]
  },
  {
   "cell_type": "markdown",
   "id": "b8f817fa-21f8-4140-96dc-0b13ce54d482",
   "metadata": {},
   "source": [
    "# Q2\n",
    "In order to tailor marketing strategies, what hour of the day (as a number on the 24 hour scale) had the most hourly total sales?  \n",
    "Enter your answer into the `most_hourly_sales` object as an integer.\n",
    "\n",
    "- To retrieve the hour of a variable with times, can use `hour()`."
   ]
  },
  {
   "cell_type": "code",
   "execution_count": 176,
   "id": "0855bb6f-177e-4de1-a7dc-773b02ee16de",
   "metadata": {
    "executionCancelledAt": null,
    "executionTime": 52,
    "lastExecutedAt": 1761943448590,
    "lastExecutedByKernel": "add869da-9d92-47e6-b087-565219ba6d0e",
    "lastScheduledRunId": null,
    "lastSuccessfullyExecutedCode": "#Calculate the total sales per hour\ntot_hr_sales <- merged_df %>%\n\tgroup_by(hour = hour(Time)) %>%\n\tsummarize(tot_sales = sum(Sales)) %>%\n\tungroup()\n\n#Retrieve the hour with the most total sales; 22\nmost_hourly_sales <- tot_hr_sales %>%\n\tslice_max(tot_sales, n=1) %>%\n\tpull(hour)\nmost_hourly_sales",
    "outputsMetadata": {
     "0": {
      "height": 500,
      "tableState": {},
      "type": "dataFrame"
     }
    }
   },
   "outputs": [
    {
     "data": {
      "text/html": [
       "22"
      ],
      "text/latex": [
       "22"
      ],
      "text/markdown": [
       "22"
      ],
      "text/plain": [
       "[1] 22"
      ]
     },
     "metadata": {},
     "output_type": "display_data"
    }
   ],
   "source": [
    "#Calculate the total sales per hour\n",
    "tot_hr_sales <- merged_df %>%\n",
    "    group_by(hour = hour(Time)) %>%\n",
    "    summarize(tot_sales = sum(Sales)) %>%\n",
    "    ungroup()\n",
    "\n",
    "#Retrieve the hour with the most total sales; 22\n",
    "most_hourly_sales <- tot_hr_sales %>%\n",
    "    slice_max(tot_sales, n=1) %>%\n",
    "    pull(hour)\n",
    "most_hourly_sales"
   ]
  },
  {
   "cell_type": "markdown",
   "id": "5eeb6225-12ea-4c5e-a23b-3b1cbe5d8593",
   "metadata": {},
   "source": [
    "# Q3\n",
    "In order to evaluate individual buying preferences, how many days went by between the three purchases of cornflakes by `CustomerID` 107?  \n",
    "Enter your answer into the `cornflakes_days` object as an integer vector in the format `c(num1, num2)` where `num1` is the number of days between the first purchase and the second and `num2` for the second and third purchases."
   ]
  },
  {
   "cell_type": "code",
   "execution_count": 177,
   "id": "1294f406-1928-4a85-81b2-6868f9853390",
   "metadata": {
    "executionCancelledAt": null,
    "executionTime": 52,
    "lastExecutedAt": 1761943448642,
    "lastExecutedByKernel": "add869da-9d92-47e6-b087-565219ba6d0e",
    "lastScheduledRunId": null,
    "lastSuccessfullyExecutedCode": "#Filter for the relevant data\nq3_df <- merged_df %>%\n\tfilter(CustomerID == 107 & ProductName == 'Cornflakes') %>%\n\t#sort by date\n\tarrange(Date) %>%\n\tselect(CustomerID, ProductName, Date) %>%\n\t#Create a variable calculating the number of days between consecutive purchases\n\tmutate(days_between_purch = as.numeric(Date - lag(Date, n=1)))\n#Retrieve the two date differences & assign to the specified variable\ncornflakes_days <- q3_df %>%\n\tslice(2:3) %>%\n\tpull(days_between_purch)\ncornflakes_days",
    "outputsMetadata": {
     "0": {
      "height": 500,
      "tableState": {},
      "type": "dataFrame"
     }
    }
   },
   "outputs": [
    {
     "data": {
      "text/html": [
       "<style>\n",
       ".list-inline {list-style: none; margin:0; padding: 0}\n",
       ".list-inline>li {display: inline-block}\n",
       ".list-inline>li:not(:last-child)::after {content: \"\\00b7\"; padding: 0 .5ex}\n",
       "</style>\n",
       "<ol class=list-inline><li>6</li><li>40</li></ol>\n"
      ],
      "text/latex": [
       "\\begin{enumerate*}\n",
       "\\item 6\n",
       "\\item 40\n",
       "\\end{enumerate*}\n"
      ],
      "text/markdown": [
       "1. 6\n",
       "2. 40\n",
       "\n",
       "\n"
      ],
      "text/plain": [
       "[1]  6 40"
      ]
     },
     "metadata": {},
     "output_type": "display_data"
    }
   ],
   "source": [
    "#Filter for the relevant data\n",
    "q3_df <- merged_df %>%\n",
    "    filter(CustomerID == 107 & ProductName == 'Cornflakes') %>%\n",
    "    #sort by date\n",
    "    arrange(Date) %>%\n",
    "    select(CustomerID, ProductName, Date) %>%\n",
    "    #Create a variable calculating the number of days between consecutive purchases\n",
    "    mutate(days_between_purch = as.numeric(Date - lag(Date, n=1)))\n",
    "#Retrieve the two date differences & assign to the specified variable\n",
    "cornflakes_days <- q3_df %>%\n",
    "    slice(2:3) %>%\n",
    "    pull(days_between_purch)\n",
    "cornflakes_days"
   ]
  }
 ],
 "metadata": {
  "colab": {
   "name": "Welcome to DataCamp Workspaces.ipynb",
   "provenance": []
  },
  "editor": "DataCamp Workspace",
  "kernelspec": {
   "display_name": "Python 3 (ipykernel)",
   "language": "python",
   "name": "python3"
  },
  "language_info": {
   "codemirror_mode": {
    "name": "ipython",
    "version": 3
   },
   "file_extension": ".py",
   "mimetype": "text/x-python",
   "name": "python",
   "nbconvert_exporter": "python",
   "pygments_lexer": "ipython3",
   "version": "3.11.5"
  }
 },
 "nbformat": 4,
 "nbformat_minor": 5
}
